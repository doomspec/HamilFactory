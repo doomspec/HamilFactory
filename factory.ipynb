{
 "cells": [
  {
   "cell_type": "code",
   "execution_count": 1,
   "metadata": {
    "collapsed": true,
    "pycharm": {
     "name": "#%%\n"
    }
   },
   "outputs": [],
   "source": [
    "from openfermion import jordan_wigner\n",
    "from fq_transform import get_transform_dict\n",
    "from hamil_factory import make_molecular_hamil\n",
    "from geometry import equilibrium_geometry_dict, geometry_generator_dict\n",
    "from openfermion.utils import count_qubits\n",
    "import pickle\n",
    "def save(hamil, n_qubit, title):\n",
    "    data = {\n",
    "        \"term\" : hamil.terms,\n",
    "        \"n_site\": n_qubit\n",
    "    }\n",
    "    with open(f\"./hamils/mol/{title}.op\", \"wb\") as f:\n",
    "        pickle.dump(data, f)\n",
    "\n",
    "def gen_and_save_equil_mol_hamil(name, basis=\"sto-3g\"):\n",
    "    geo_gen = geometry_generator_dict[name]\n",
    "    equilibrium = equilibrium_geometry_dict[name]\n",
    "    hamil, fermion_hamil, energy = make_molecular_hamil(geo_gen(equilibrium), fermi_qubit_transform= jordan_wigner, basis=basis)\n",
    "    n_qubit = count_qubits(hamil)\n",
    "    print(\"n_qubit\", n_qubit)\n",
    "    save(hamil, n_qubit, f\"{name}_{n_qubit}_JW\")\n",
    "    trans = get_transform_dict(n_qubit)\n",
    "    for key in [\"BK\", \"P\"]:\n",
    "        hamil = trans[key](fermion_hamil)\n",
    "        save(hamil, n_qubit, f\"{name}_{n_qubit}_{key}\")"
   ]
  },
  {
   "cell_type": "code",
   "execution_count": 7,
   "outputs": [
    {
     "name": "stdout",
     "output_type": "stream",
     "text": [
      "Symmetry: Dooh  is used when build the molecule.\n",
      "n_qubit 20\n"
     ]
    }
   ],
   "source": [
    "gen_and_save_equil_mol_hamil(\"N2\")"
   ],
   "metadata": {
    "collapsed": false,
    "pycharm": {
     "name": "#%%\n"
    }
   }
  },
  {
   "cell_type": "code",
   "execution_count": 8,
   "outputs": [
    {
     "name": "stdout",
     "output_type": "stream",
     "text": [
      "Symmetry: C2v  is used when build the molecule.\n",
      "n_qubit 14\n"
     ]
    }
   ],
   "source": [
    "gen_and_save_equil_mol_hamil(\"H2O\")"
   ],
   "metadata": {
    "collapsed": false,
    "pycharm": {
     "name": "#%%\n"
    }
   }
  },
  {
   "cell_type": "code",
   "execution_count": 9,
   "outputs": [
    {
     "name": "stdout",
     "output_type": "stream",
     "text": [
      "Symmetry: Dooh  is used when build the molecule.\n",
      "n_qubit 12\n"
     ]
    }
   ],
   "source": [
    "gen_and_save_equil_mol_hamil(\"H6\")"
   ],
   "metadata": {
    "collapsed": false,
    "pycharm": {
     "name": "#%%\n"
    }
   }
  },
  {
   "cell_type": "code",
   "execution_count": 10,
   "outputs": [
    {
     "name": "stdout",
     "output_type": "stream",
     "text": [
      "Symmetry: Cs  is used when build the molecule.\n",
      "n_qubit 16\n"
     ]
    }
   ],
   "source": [
    "gen_and_save_equil_mol_hamil(\"NH3\")"
   ],
   "metadata": {
    "collapsed": false,
    "pycharm": {
     "name": "#%%\n"
    }
   }
  },
  {
   "cell_type": "code",
   "execution_count": 11,
   "outputs": [
    {
     "name": "stdout",
     "output_type": "stream",
     "text": [
      "Symmetry: Dooh  is used when build the molecule.\n",
      "n_qubit 24\n"
     ]
    }
   ],
   "source": [
    "gen_and_save_equil_mol_hamil(\"C2H2\")"
   ],
   "metadata": {
    "collapsed": false,
    "pycharm": {
     "name": "#%%\n"
    }
   }
  },
  {
   "cell_type": "code",
   "execution_count": 12,
   "outputs": [
    {
     "name": "stdout",
     "output_type": "stream",
     "text": [
      "Symmetry: Coov  is used when build the molecule.\n",
      "n_qubit 12\n"
     ]
    }
   ],
   "source": [
    "gen_and_save_equil_mol_hamil(\"LiH\")"
   ],
   "metadata": {
    "collapsed": false,
    "pycharm": {
     "name": "#%%\n"
    }
   }
  },
  {
   "cell_type": "code",
   "execution_count": 13,
   "outputs": [
    {
     "name": "stdout",
     "output_type": "stream",
     "text": [
      "Symmetry: Cs  is used when build the molecule.\n",
      "n_qubit 30\n"
     ]
    }
   ],
   "source": [
    "gen_and_save_equil_mol_hamil(\"NH3\", basis=\"6-31g\")"
   ],
   "metadata": {
    "collapsed": false,
    "pycharm": {
     "name": "#%%\n"
    }
   }
  },
  {
   "cell_type": "code",
   "execution_count": 14,
   "outputs": [
    {
     "name": "stdout",
     "output_type": "stream",
     "text": [
      "Symmetry: C2v  is used when build the molecule.\n",
      "n_qubit 26\n"
     ]
    }
   ],
   "source": [
    "gen_and_save_equil_mol_hamil(\"H2O\", basis=\"6-31g\")"
   ],
   "metadata": {
    "collapsed": false,
    "pycharm": {
     "name": "#%%\n"
    }
   }
  },
  {
   "cell_type": "code",
   "execution_count": 2,
   "outputs": [
    {
     "name": "stdout",
     "output_type": "stream",
     "text": [
      "Symmetry: D2h  is used when build the molecule.\n",
      "n_qubit 28\n"
     ]
    }
   ],
   "source": [
    "gen_and_save_equil_mol_hamil(\"C2H4\", basis=\"sto-3g\")"
   ],
   "metadata": {
    "collapsed": false,
    "pycharm": {
     "name": "#%%\n"
    }
   }
  },
  {
   "cell_type": "code",
   "execution_count": 3,
   "outputs": [
    {
     "name": "stdout",
     "output_type": "stream",
     "text": [
      "Symmetry: Dooh  is used when build the molecule.\n",
      "n_qubit 24\n"
     ]
    }
   ],
   "source": [
    "gen_and_save_equil_mol_hamil(\"H6\", basis=\"6-31g\")"
   ],
   "metadata": {
    "collapsed": false,
    "pycharm": {
     "name": "#%%\n"
    }
   }
  },
  {
   "cell_type": "code",
   "execution_count": 2,
   "outputs": [
    {
     "name": "stdout",
     "output_type": "stream",
     "text": [
      "Symmetry: Dooh  is used when build the molecule.\n",
      "n_qubit 30\n"
     ]
    }
   ],
   "source": [
    "gen_and_save_equil_mol_hamil(\"CO2\", basis=\"sto-3g\")"
   ],
   "metadata": {
    "collapsed": false,
    "pycharm": {
     "name": "#%%\n"
    }
   }
  },
  {
   "cell_type": "code",
   "execution_count": null,
   "outputs": [],
   "source": [],
   "metadata": {
    "collapsed": false,
    "pycharm": {
     "name": "#%%\n"
    }
   }
  }
 ],
 "metadata": {
  "kernelspec": {
   "display_name": "Python 3",
   "language": "python",
   "name": "python3"
  },
  "language_info": {
   "codemirror_mode": {
    "name": "ipython",
    "version": 2
   },
   "file_extension": ".py",
   "mimetype": "text/x-python",
   "name": "python",
   "nbconvert_exporter": "python",
   "pygments_lexer": "ipython2",
   "version": "2.7.6"
  }
 },
 "nbformat": 4,
 "nbformat_minor": 0
}