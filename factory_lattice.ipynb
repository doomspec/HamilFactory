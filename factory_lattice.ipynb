{
 "cells": [
  {
   "cell_type": "code",
   "execution_count": 1,
   "metadata": {
    "collapsed": true,
    "pycharm": {
     "name": "#%%\n"
    }
   },
   "outputs": [],
   "source": [
    "from hamils.save import save_hamil"
   ]
  },
  {
   "cell_type": "code",
   "execution_count": 2,
   "outputs": [
    {
     "name": "stdout",
     "output_type": "stream",
     "text": [
      "7375\n",
      "14850\n",
      "22325\n",
      "29800\n"
     ]
    }
   ],
   "source": [
    "from lattice.generator import two_dimensional_transverse_field_ising_model\n",
    "# See https://en.wikipedia.org/wiki/Transverse-field_Ising_model\n",
    "for n_row, n_col in [(25, 100), (50, 100), (75, 100), (100, 100)]:\n",
    "    g = 1.0 # This make the model in the gapless phase\n",
    "    n_qubit = n_row * n_col\n",
    "    hamil = two_dimensional_transverse_field_ising_model(n_row, n_col, g)\n",
    "    n_term = len(hamil.terms)\n",
    "    print(n_term)\n",
    "    save_hamil(hamil, n_qubit, \"lattice\", f\"TFIM_{n_row}_{n_col}_{g}\")"
   ],
   "metadata": {
    "collapsed": false,
    "pycharm": {
     "name": "#%%\n"
    }
   }
  },
  {
   "cell_type": "code",
   "execution_count": null,
   "outputs": [],
   "source": [],
   "metadata": {
    "collapsed": false,
    "pycharm": {
     "name": "#%%\n"
    }
   }
  }
 ],
 "metadata": {
  "kernelspec": {
   "display_name": "Python 3",
   "language": "python",
   "name": "python3"
  },
  "language_info": {
   "codemirror_mode": {
    "name": "ipython",
    "version": 2
   },
   "file_extension": ".py",
   "mimetype": "text/x-python",
   "name": "python",
   "nbconvert_exporter": "python",
   "pygments_lexer": "ipython2",
   "version": "2.7.6"
  }
 },
 "nbformat": 4,
 "nbformat_minor": 0
}